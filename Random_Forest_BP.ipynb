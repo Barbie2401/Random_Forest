{
 "cells": [
  {
   "cell_type": "markdown",
   "id": "ab8ecce6",
   "metadata": {},
   "source": [
    "# <center><font color='MediumSeaGreen'> _Módulo Machine Learning G45_</font>\n",
    "# <center><font color='MediumSeaGreen'> Desafío evaluado - Random Forest </font>\n",
    "## <center> _Algoritmo de ensanmble (Parte 1)_ \n",
    "    \n",
    "### <center><b> Bárbara Pérez </b><center>"
   ]
  },
  {
   "cell_type": "markdown",
   "id": "8b53a93c",
   "metadata": {},
   "source": [
    "______________"
   ]
  },
  {
   "cell_type": "markdown",
   "id": "1bda7390",
   "metadata": {},
   "source": [
    "## <font color='MediumSeaGreen'>Requerimientos</font>"
   ]
  },
  {
   "cell_type": "markdown",
   "id": "3a4df1ea",
   "metadata": {},
   "source": [
    "- Para esta sesión trabajaremos con una base de datos sobre los precios de inmuebles en la ciudad de Ames, Iowa. La base se compone de 2930 registros y contiene un gran número de atributos.\n",
    "\n",
    "\n",
    "- Nuestro objetivo es generar un modelo que prediga de forma adecuada los precios de inmuebles, medidos con la variable <span style='background:gainsboro'><font color='dimgray'>Sale_Price</font></span>.\n",
    "\n",
    "\n",
    "- A diferencia de otras sesiones donde implementamos el preprocesamiento a mano, ahora haremos uso de los archivos serializados en la sesión pasada."
   ]
  },
  {
   "cell_type": "markdown",
   "id": "2869ee13",
   "metadata": {},
   "source": [
    "______"
   ]
  },
  {
   "cell_type": "markdown",
   "id": "108278b1",
   "metadata": {},
   "source": [
    "## <font color='MediumSeaGreen'>Ejercicio 1: Preparación del ambiente de trabajo</font>"
   ]
  },
  {
   "cell_type": "markdown",
   "id": "91ac7d0c",
   "metadata": {},
   "source": [
    "- Importe las librerías clásicas a utilizar.\n",
    "\n",
    "\n",
    "- Para este ejercicio Random Forest de Regresión.\n",
    "\n",
    "\n",
    "- De manera adicional importe las funciones y clases necesarias para generar un desempeño de métricas en problemas de regresión.\n",
    "\n",
    "\n",
    "- Elimine la columna <span style='background:gainsboro'><font color='Maroon'>'Unnamed: 0'</font></span> cuando cargue los datos."
   ]
  },
  {
   "cell_type": "code",
   "execution_count": 1,
   "id": "28e0618d",
   "metadata": {},
   "outputs": [],
   "source": [
    "#Importar librerias\n",
    "import matplotlib.pyplot as plt #version 3.5.2\n",
    "import pandas as pd  #version 1.4.3\n",
    "import seaborn as sns  #version 0.11.2\n",
    "import numpy as np  #version 1.23.0\n",
    "\n",
    "#Importamos pickle\n",
    "import pickle\n",
    "\n",
    "#Librerias para arboles de desición\n",
    "from sklearn.tree import DecisionTreeRegressor\n",
    "\n",
    "#Libreria para Random Forest\n",
    "from sklearn.ensemble import RandomForestRegressor\n",
    "\n",
    "#librería para pre procesamiento\n",
    "from sklearn.preprocessing import LabelEncoder\n",
    "\n",
    "#Libreria para modelamiento\n",
    "from sklearn.pipeline import Pipeline\n",
    "from sklearn.model_selection import train_test_split, GridSearchCV, cross_val_score\n",
    "\n",
    "#Librerias para las métricas\n",
    "from sklearn.metrics import mean_squared_error, mean_absolute_error, median_absolute_error, r2_score\n",
    "\n",
    "#eliminamos los mensajes de advertencia\n",
    "import warnings\n",
    "warnings.filterwarnings('ignore')"
   ]
  },
  {
   "cell_type": "code",
   "execution_count": 2,
   "id": "1f88d4ce",
   "metadata": {},
   "outputs": [],
   "source": [
    "#importamos las funciones del expositor de curso\n",
    "import lec8_graphs as afx"
   ]
  },
  {
   "cell_type": "code",
   "execution_count": 3,
   "id": "0fdd1159",
   "metadata": {},
   "outputs": [],
   "source": [
    "#Importamos funciones auxiliares\n",
    "import funciones_auxiliares as fas"
   ]
  },
  {
   "cell_type": "code",
   "execution_count": 4,
   "id": "8e37b2a7",
   "metadata": {},
   "outputs": [],
   "source": [
    "#importamos la base de datos y eliminamos la columna 'Unnamed'\n",
    "df = pd.read_csv('ames_housing.csv').drop(columns=['Unnamed: 0'])"
   ]
  },
  {
   "cell_type": "code",
   "execution_count": 5,
   "id": "23870dff",
   "metadata": {},
   "outputs": [
    {
     "data": {
      "text/html": [
       "<div>\n",
       "<style scoped>\n",
       "    .dataframe tbody tr th:only-of-type {\n",
       "        vertical-align: middle;\n",
       "    }\n",
       "\n",
       "    .dataframe tbody tr th {\n",
       "        vertical-align: top;\n",
       "    }\n",
       "\n",
       "    .dataframe thead th {\n",
       "        text-align: right;\n",
       "    }\n",
       "</style>\n",
       "<table border=\"1\" class=\"dataframe\">\n",
       "  <thead>\n",
       "    <tr style=\"text-align: right;\">\n",
       "      <th></th>\n",
       "      <th>MS_SubClass</th>\n",
       "      <th>MS_Zoning</th>\n",
       "      <th>Lot_Frontage</th>\n",
       "      <th>Lot_Area</th>\n",
       "      <th>Street</th>\n",
       "      <th>Alley</th>\n",
       "      <th>Lot_Shape</th>\n",
       "      <th>Land_Contour</th>\n",
       "      <th>Utilities</th>\n",
       "      <th>Lot_Config</th>\n",
       "      <th>...</th>\n",
       "      <th>Fence</th>\n",
       "      <th>Misc_Feature</th>\n",
       "      <th>Misc_Val</th>\n",
       "      <th>Mo_Sold</th>\n",
       "      <th>Year_Sold</th>\n",
       "      <th>Sale_Type</th>\n",
       "      <th>Sale_Condition</th>\n",
       "      <th>Sale_Price</th>\n",
       "      <th>Longitude</th>\n",
       "      <th>Latitude</th>\n",
       "    </tr>\n",
       "  </thead>\n",
       "  <tbody>\n",
       "    <tr>\n",
       "      <th>0</th>\n",
       "      <td>One_Story_1946_and_Newer_All_Styles</td>\n",
       "      <td>Residential_Low_Density</td>\n",
       "      <td>141</td>\n",
       "      <td>31770</td>\n",
       "      <td>Pave</td>\n",
       "      <td>No_Alley_Access</td>\n",
       "      <td>Slightly_Irregular</td>\n",
       "      <td>Lvl</td>\n",
       "      <td>AllPub</td>\n",
       "      <td>Corner</td>\n",
       "      <td>...</td>\n",
       "      <td>No_Fence</td>\n",
       "      <td>None</td>\n",
       "      <td>0</td>\n",
       "      <td>5</td>\n",
       "      <td>2010</td>\n",
       "      <td>WD</td>\n",
       "      <td>Normal</td>\n",
       "      <td>215000</td>\n",
       "      <td>-93.619754</td>\n",
       "      <td>42.054035</td>\n",
       "    </tr>\n",
       "    <tr>\n",
       "      <th>1</th>\n",
       "      <td>One_Story_1946_and_Newer_All_Styles</td>\n",
       "      <td>Residential_High_Density</td>\n",
       "      <td>80</td>\n",
       "      <td>11622</td>\n",
       "      <td>Pave</td>\n",
       "      <td>No_Alley_Access</td>\n",
       "      <td>Regular</td>\n",
       "      <td>Lvl</td>\n",
       "      <td>AllPub</td>\n",
       "      <td>Inside</td>\n",
       "      <td>...</td>\n",
       "      <td>Minimum_Privacy</td>\n",
       "      <td>None</td>\n",
       "      <td>0</td>\n",
       "      <td>6</td>\n",
       "      <td>2010</td>\n",
       "      <td>WD</td>\n",
       "      <td>Normal</td>\n",
       "      <td>105000</td>\n",
       "      <td>-93.619756</td>\n",
       "      <td>42.053014</td>\n",
       "    </tr>\n",
       "    <tr>\n",
       "      <th>2</th>\n",
       "      <td>One_Story_1946_and_Newer_All_Styles</td>\n",
       "      <td>Residential_Low_Density</td>\n",
       "      <td>81</td>\n",
       "      <td>14267</td>\n",
       "      <td>Pave</td>\n",
       "      <td>No_Alley_Access</td>\n",
       "      <td>Slightly_Irregular</td>\n",
       "      <td>Lvl</td>\n",
       "      <td>AllPub</td>\n",
       "      <td>Corner</td>\n",
       "      <td>...</td>\n",
       "      <td>No_Fence</td>\n",
       "      <td>Gar2</td>\n",
       "      <td>12500</td>\n",
       "      <td>6</td>\n",
       "      <td>2010</td>\n",
       "      <td>WD</td>\n",
       "      <td>Normal</td>\n",
       "      <td>172000</td>\n",
       "      <td>-93.619387</td>\n",
       "      <td>42.052659</td>\n",
       "    </tr>\n",
       "    <tr>\n",
       "      <th>3</th>\n",
       "      <td>One_Story_1946_and_Newer_All_Styles</td>\n",
       "      <td>Residential_Low_Density</td>\n",
       "      <td>93</td>\n",
       "      <td>11160</td>\n",
       "      <td>Pave</td>\n",
       "      <td>No_Alley_Access</td>\n",
       "      <td>Regular</td>\n",
       "      <td>Lvl</td>\n",
       "      <td>AllPub</td>\n",
       "      <td>Corner</td>\n",
       "      <td>...</td>\n",
       "      <td>No_Fence</td>\n",
       "      <td>None</td>\n",
       "      <td>0</td>\n",
       "      <td>4</td>\n",
       "      <td>2010</td>\n",
       "      <td>WD</td>\n",
       "      <td>Normal</td>\n",
       "      <td>244000</td>\n",
       "      <td>-93.617320</td>\n",
       "      <td>42.051245</td>\n",
       "    </tr>\n",
       "    <tr>\n",
       "      <th>4</th>\n",
       "      <td>Two_Story_1946_and_Newer</td>\n",
       "      <td>Residential_Low_Density</td>\n",
       "      <td>74</td>\n",
       "      <td>13830</td>\n",
       "      <td>Pave</td>\n",
       "      <td>No_Alley_Access</td>\n",
       "      <td>Slightly_Irregular</td>\n",
       "      <td>Lvl</td>\n",
       "      <td>AllPub</td>\n",
       "      <td>Inside</td>\n",
       "      <td>...</td>\n",
       "      <td>Minimum_Privacy</td>\n",
       "      <td>None</td>\n",
       "      <td>0</td>\n",
       "      <td>3</td>\n",
       "      <td>2010</td>\n",
       "      <td>WD</td>\n",
       "      <td>Normal</td>\n",
       "      <td>189900</td>\n",
       "      <td>-93.638933</td>\n",
       "      <td>42.060899</td>\n",
       "    </tr>\n",
       "  </tbody>\n",
       "</table>\n",
       "<p>5 rows × 81 columns</p>\n",
       "</div>"
      ],
      "text/plain": [
       "                           MS_SubClass                 MS_Zoning  \\\n",
       "0  One_Story_1946_and_Newer_All_Styles   Residential_Low_Density   \n",
       "1  One_Story_1946_and_Newer_All_Styles  Residential_High_Density   \n",
       "2  One_Story_1946_and_Newer_All_Styles   Residential_Low_Density   \n",
       "3  One_Story_1946_and_Newer_All_Styles   Residential_Low_Density   \n",
       "4             Two_Story_1946_and_Newer   Residential_Low_Density   \n",
       "\n",
       "   Lot_Frontage  Lot_Area Street            Alley           Lot_Shape  \\\n",
       "0           141     31770   Pave  No_Alley_Access  Slightly_Irregular   \n",
       "1            80     11622   Pave  No_Alley_Access             Regular   \n",
       "2            81     14267   Pave  No_Alley_Access  Slightly_Irregular   \n",
       "3            93     11160   Pave  No_Alley_Access             Regular   \n",
       "4            74     13830   Pave  No_Alley_Access  Slightly_Irregular   \n",
       "\n",
       "  Land_Contour Utilities Lot_Config  ...            Fence Misc_Feature  \\\n",
       "0          Lvl    AllPub     Corner  ...         No_Fence         None   \n",
       "1          Lvl    AllPub     Inside  ...  Minimum_Privacy         None   \n",
       "2          Lvl    AllPub     Corner  ...         No_Fence         Gar2   \n",
       "3          Lvl    AllPub     Corner  ...         No_Fence         None   \n",
       "4          Lvl    AllPub     Inside  ...  Minimum_Privacy         None   \n",
       "\n",
       "  Misc_Val Mo_Sold Year_Sold Sale_Type Sale_Condition Sale_Price  Longitude  \\\n",
       "0        0       5      2010       WD          Normal     215000 -93.619754   \n",
       "1        0       6      2010       WD          Normal     105000 -93.619756   \n",
       "2    12500       6      2010       WD          Normal     172000 -93.619387   \n",
       "3        0       4      2010       WD          Normal     244000 -93.617320   \n",
       "4        0       3      2010       WD          Normal     189900 -93.638933   \n",
       "\n",
       "    Latitude  \n",
       "0  42.054035  \n",
       "1  42.053014  \n",
       "2  42.052659  \n",
       "3  42.051245  \n",
       "4  42.060899  \n",
       "\n",
       "[5 rows x 81 columns]"
      ]
     },
     "execution_count": 5,
     "metadata": {},
     "output_type": "execute_result"
    }
   ],
   "source": [
    "#revisamos el df\n",
    "df.head()"
   ]
  },
  {
   "cell_type": "markdown",
   "id": "57d0f408",
   "metadata": {},
   "source": [
    "__________________"
   ]
  },
  {
   "cell_type": "markdown",
   "id": "aed8010a",
   "metadata": {},
   "source": [
    "## <font color='MediumSeaGreen'>Ejercicio 2: Importación de archivos serializados</font>"
   ]
  },
  {
   "cell_type": "markdown",
   "id": "727a6944",
   "metadata": {},
   "source": [
    "- Importe su modelo entrenado y sus conjuntos de entrenamiento y validación serializados la sesión pasada y evalúe el desempeño del modelo de su compañero con el suyo ¿Cuál es mejor? Si no puede ejecutar el modelo, comente cuáles pueden ser los causantes.\n",
    "\n",
    "\n",
    "- No es necesario que realice diagnósticos gráficos sobre el modelo, sólo reporte sus métricas.\n",
    "\n",
    "\n",
    "- Para importar un archivo serializado, puede ocupar la siguiente línea de código:"
   ]
  },
  {
   "attachments": {
    "image.png": {
     "image/png": "[encoded data removed]"
    }
   },
   "cell_type": "markdown",
   "id": "8b3c1dbf",
   "metadata": {},
   "source": [
    "![image.png](attachment:image.png)"
   ]
  },
  {
   "cell_type": "code",
   "execution_count": 6,
   "id": "9c55085a",
   "metadata": {},
   "outputs": [],
   "source": [
    "#Importamos el modelo de Gustavo Dawson mediante pickle\n",
    "modelo_gustavo_dawson= pickle.load(open('gustavo_dawson_desafio_evaluado_arboles_de_regresion.sav','rb'))"
   ]
  },
  {
   "cell_type": "code",
   "execution_count": 7,
   "id": "a247f347",
   "metadata": {},
   "outputs": [],
   "source": [
    "#Importamos nuestro modelo y los conjuntos de entrenamiento y validación mediante pickle\n",
    "modelo_barbara_perez= pickle.load(open('barbara_perez_desafio_evaluado_arboles_de_regresion.sav','rb'))\n",
    "X_train = pickle.load(open('barbara_perez_desafio_evaluado_arboles_de_regresion_X_train.sav','rb'))\n",
    "y_train = pickle.load(open('barbara_perez_desafio_evaluado_arboles_de_regresion_y_train.sav','rb'))\n",
    "X_test = pickle.load(open('barbara_perez_desafio_evaluado_arboles_de_regresion_X_test.sav','rb'))\n",
    "y_test = pickle.load(open('barbara_perez_desafio_evaluado_arboles_de_regresion_y_test.sav','rb'))"
   ]
  },
  {
   "cell_type": "code",
   "execution_count": 8,
   "id": "d3884f03",
   "metadata": {},
   "outputs": [
    {
     "name": "stdout",
     "output_type": "stream",
     "text": [
      "Test MSE:  2715355963.595\n",
      "Test MAE:  32192.657\n",
      "Test R2:  0.568\n"
     ]
    }
   ],
   "source": [
    "#Reportamos las métricas del modelo de Gustavo en base a mi subset.\n",
    "fas.metricas(modelo_gustavo_dawson, X_test, y_test)"
   ]
  },
  {
   "cell_type": "code",
   "execution_count": 9,
   "id": "a52c1c3e",
   "metadata": {},
   "outputs": [
    {
     "name": "stdout",
     "output_type": "stream",
     "text": [
      "Test MSE:  1597636422.156\n",
      "Test MAE:  23873.655\n",
      "Test R2:  0.746\n"
     ]
    }
   ],
   "source": [
    "#Reportamos las métricas del modelo propio en base a mi subset.\n",
    "fas.metricas(modelo_barbara_perez, X_test, y_test)"
   ]
  },
  {
   "cell_type": "markdown",
   "id": "f0bc3bca",
   "metadata": {},
   "source": [
    "Se observa que el modelo de Gustavo tiene unos resultados leve mente más bajos que mis resultados."
   ]
  },
  {
   "cell_type": "code",
   "execution_count": 10,
   "id": "c734e692",
   "metadata": {},
   "outputs": [
    {
     "data": {
      "text/html": [
       "<style>#sk-container-id-1 {color: black;background-color: white;}#sk-container-id-1 pre{padding: 0;}#sk-container-id-1 div.sk-toggleable {background-color: white;}#sk-container-id-1 label.sk-toggleable__label {cursor: pointer;display: block;width: 100%;margin-bottom: 0;padding: 0.3em;box-sizing: border-box;text-align: center;}#sk-container-id-1 label.sk-toggleable__label-arrow:before {content: \"▸\";float: left;margin-right: 0.25em;color: #696969;}#sk-container-id-1 label.sk-toggleable__label-arrow:hover:before {color: black;}#sk-container-id-1 div.sk-estimator:hover label.sk-toggleable__label-arrow:before {color: black;}#sk-container-id-1 div.sk-toggleable__content {max-height: 0;max-width: 0;overflow: hidden;text-align: left;background-color: #f0f8ff;}#sk-container-id-1 div.sk-toggleable__content pre {margin: 0.2em;color: black;border-radius: 0.25em;background-color: #f0f8ff;}#sk-container-id-1 input.sk-toggleable__control:checked~div.sk-toggleable__content {max-height: 200px;max-width: 100%;overflow: auto;}#sk-container-id-1 input.sk-toggleable__control:checked~label.sk-toggleable__label-arrow:before {content: \"▾\";}#sk-container-id-1 div.sk-estimator input.sk-toggleable__control:checked~label.sk-toggleable__label {background-color: #d4ebff;}#sk-container-id-1 div.sk-label input.sk-toggleable__control:checked~label.sk-toggleable__label {background-color: #d4ebff;}#sk-container-id-1 input.sk-hidden--visually {border: 0;clip: rect(1px 1px 1px 1px);clip: rect(1px, 1px, 1px, 1px);height: 1px;margin: -1px;overflow: hidden;padding: 0;position: absolute;width: 1px;}#sk-container-id-1 div.sk-estimator {font-family: monospace;background-color: #f0f8ff;border: 1px dotted black;border-radius: 0.25em;box-sizing: border-box;margin-bottom: 0.5em;}#sk-container-id-1 div.sk-estimator:hover {background-color: #d4ebff;}#sk-container-id-1 div.sk-parallel-item::after {content: \"\";width: 100%;border-bottom: 1px solid gray;flex-grow: 1;}#sk-container-id-1 div.sk-label:hover label.sk-toggleable__label {background-color: #d4ebff;}#sk-container-id-1 div.sk-serial::before {content: \"\";position: absolute;border-left: 1px solid gray;box-sizing: border-box;top: 0;bottom: 0;left: 50%;z-index: 0;}#sk-container-id-1 div.sk-serial {display: flex;flex-direction: column;align-items: center;background-color: white;padding-right: 0.2em;padding-left: 0.2em;position: relative;}#sk-container-id-1 div.sk-item {position: relative;z-index: 1;}#sk-container-id-1 div.sk-parallel {display: flex;align-items: stretch;justify-content: center;background-color: white;position: relative;}#sk-container-id-1 div.sk-item::before, #sk-container-id-1 div.sk-parallel-item::before {content: \"\";position: absolute;border-left: 1px solid gray;box-sizing: border-box;top: 0;bottom: 0;left: 50%;z-index: -1;}#sk-container-id-1 div.sk-parallel-item {display: flex;flex-direction: column;z-index: 1;position: relative;background-color: white;}#sk-container-id-1 div.sk-parallel-item:first-child::after {align-self: flex-end;width: 50%;}#sk-container-id-1 div.sk-parallel-item:last-child::after {align-self: flex-start;width: 50%;}#sk-container-id-1 div.sk-parallel-item:only-child::after {width: 0;}#sk-container-id-1 div.sk-dashed-wrapped {border: 1px dashed gray;margin: 0 0.4em 0.5em 0.4em;box-sizing: border-box;padding-bottom: 0.4em;background-color: white;}#sk-container-id-1 div.sk-label label {font-family: monospace;font-weight: bold;display: inline-block;line-height: 1.2em;}#sk-container-id-1 div.sk-label-container {text-align: center;}#sk-container-id-1 div.sk-container {/* jupyter's `normalize.less` sets `[hidden] { display: none; }` but bootstrap.min.css set `[hidden] { display: none !important; }` so we also need the `!important` here to be able to override the default hidden behavior on the sphinx rendered scikit-learn.org. See: https://github.com/scikit-learn/scikit-learn/issues/21755 */display: inline-block !important;position: relative;}#sk-container-id-1 div.sk-text-repr-fallback {display: none;}</style><div id=\"sk-container-id-1\" class=\"sk-top-container\"><div class=\"sk-text-repr-fallback\"><pre>GridSearchCV(cv=5, estimator=DecisionTreeRegressor(),\n",
       "             param_grid={&#x27;max_depth&#x27;: array([ 1,  2,  3,  4,  5,  6,  7,  8,  9, 10, 11, 12, 13, 14, 15, 16, 17,\n",
       "       18, 19, 20, 21, 22, 23, 24, 25, 26, 27, 28, 29, 30, 31, 32],\n",
       "      dtype=int64),\n",
       "                         &#x27;max_features&#x27;: [1, 2, 3, 4, 5, 6, 7, 8, 9, 10]})</pre><b>In a Jupyter environment, please rerun this cell to show the HTML representation or trust the notebook. <br />On GitHub, the HTML representation is unable to render, please try loading this page with nbviewer.org.</b></div><div class=\"sk-container\" hidden><div class=\"sk-item sk-dashed-wrapped\"><div class=\"sk-label-container\"><div class=\"sk-label sk-toggleable\"><input class=\"sk-toggleable__control sk-hidden--visually\" id=\"sk-estimator-id-1\" type=\"checkbox\" ><label for=\"sk-estimator-id-1\" class=\"sk-toggleable__label sk-toggleable__label-arrow\">GridSearchCV</label><div class=\"sk-toggleable__content\"><pre>GridSearchCV(cv=5, estimator=DecisionTreeRegressor(),\n",
       "             param_grid={&#x27;max_depth&#x27;: array([ 1,  2,  3,  4,  5,  6,  7,  8,  9, 10, 11, 12, 13, 14, 15, 16, 17,\n",
       "       18, 19, 20, 21, 22, 23, 24, 25, 26, 27, 28, 29, 30, 31, 32],\n",
       "      dtype=int64),\n",
       "                         &#x27;max_features&#x27;: [1, 2, 3, 4, 5, 6, 7, 8, 9, 10]})</pre></div></div></div><div class=\"sk-parallel\"><div class=\"sk-parallel-item\"><div class=\"sk-item\"><div class=\"sk-label-container\"><div class=\"sk-label sk-toggleable\"><input class=\"sk-toggleable__control sk-hidden--visually\" id=\"sk-estimator-id-2\" type=\"checkbox\" ><label for=\"sk-estimator-id-2\" class=\"sk-toggleable__label sk-toggleable__label-arrow\">estimator: DecisionTreeRegressor</label><div class=\"sk-toggleable__content\"><pre>DecisionTreeRegressor()</pre></div></div></div><div class=\"sk-serial\"><div class=\"sk-item\"><div class=\"sk-estimator sk-toggleable\"><input class=\"sk-toggleable__control sk-hidden--visually\" id=\"sk-estimator-id-3\" type=\"checkbox\" ><label for=\"sk-estimator-id-3\" class=\"sk-toggleable__label sk-toggleable__label-arrow\">DecisionTreeRegressor</label><div class=\"sk-toggleable__content\"><pre>DecisionTreeRegressor()</pre></div></div></div></div></div></div></div></div></div></div>"
      ],
      "text/plain": [
       "GridSearchCV(cv=5, estimator=DecisionTreeRegressor(),\n",
       "             param_grid={'max_depth': array([ 1,  2,  3,  4,  5,  6,  7,  8,  9, 10, 11, 12, 13, 14, 15, 16, 17,\n",
       "       18, 19, 20, 21, 22, 23, 24, 25, 26, 27, 28, 29, 30, 31, 32],\n",
       "      dtype=int64),\n",
       "                         'max_features': [1, 2, 3, 4, 5, 6, 7, 8, 9, 10]})"
      ]
     },
     "execution_count": 10,
     "metadata": {},
     "output_type": "execute_result"
    }
   ],
   "source": [
    "#Reentrenamos el modelo de Alexis con mi propio subset de entrenamiento\n",
    "modelo_gustavo_reentrenado = modelo_gustavo_dawson\n",
    "modelo_gustavo_reentrenado.fit(X_train, y_train)"
   ]
  },
  {
   "cell_type": "code",
   "execution_count": 11,
   "id": "a3b7650e",
   "metadata": {
    "scrolled": true
   },
   "outputs": [
    {
     "name": "stdout",
     "output_type": "stream",
     "text": [
      "Test MSE:  1824762607.211\n",
      "Test MAE:  27464.998\n",
      "Test R2:  0.71\n"
     ]
    }
   ],
   "source": [
    "#Reportamos las métricas del modelo de Gustavo reentrenado en base a mi subset.\n",
    "fas.metricas(modelo_gustavo_reentrenado, X_test, y_test)"
   ]
  },
  {
   "cell_type": "markdown",
   "id": "88e2d6f6",
   "metadata": {},
   "source": [
    "Se observa una notable mejora en las métricas del modelo reentrenado de Gustavo."
   ]
  },
  {
   "cell_type": "markdown",
   "id": "f032fd00",
   "metadata": {},
   "source": [
    "____________"
   ]
  },
  {
   "cell_type": "markdown",
   "id": "f062575b",
   "metadata": {},
   "source": [
    "## <font color='MediumSeaGreen'>Ejercicio 3: Evaluación Random Forest</font>"
   ]
  },
  {
   "cell_type": "markdown",
   "id": "86be285b",
   "metadata": {},
   "source": [
    "- En base a los conjuntos de entrenamiento serializados, genere un modelo utilizando <span style='background:gainsboro'><font color='dimgray'>sklearn.ensemble.RandomForest</font></span> sin modificar hiper parámetros, sólo declarando la semilla pseudoaleatoria.\n",
    "\n",
    "\n",
    "- Reporte su desempeño y compárelo con su modelo de la sesión pasada, así como con el de su compañero."
   ]
  },
  {
   "cell_type": "code",
   "execution_count": 12,
   "id": "b242cee3",
   "metadata": {},
   "outputs": [],
   "source": [
    "#Creamos y entrenamos un modelo RandomForestRegressor con nuestros datos de entrenamiento y con una semilla\n",
    "modelo_rfr = RandomForestRegressor(random_state=2401).fit(X_train, y_train)"
   ]
  },
  {
   "cell_type": "code",
   "execution_count": 13,
   "id": "65c628c1",
   "metadata": {},
   "outputs": [
    {
     "name": "stdout",
     "output_type": "stream",
     "text": [
      "Test MSE:  904166243.183\n",
      "Test MAE:  18828.496\n",
      "Test R2:  0.856\n"
     ]
    }
   ],
   "source": [
    "#Reportamos las métricas del modelo\n",
    "fas.metricas(modelo_rfr, X_test, y_test)"
   ]
  },
  {
   "cell_type": "markdown",
   "id": "871a26ea",
   "metadata": {},
   "source": [
    "Se observa que las métricas obtenidas del modelo Random Forest Regressor son notablemente mayor a las otras métricas obtenidas anteriormente."
   ]
  },
  {
   "cell_type": "markdown",
   "id": "49839163",
   "metadata": {},
   "source": [
    "___________"
   ]
  },
  {
   "cell_type": "markdown",
   "id": "ca0be2ff",
   "metadata": {},
   "source": [
    "## <font color='MediumSeaGreen'>Ejercicio 4: Reporte las métricas de desempeño</font>"
   ]
  },
  {
   "cell_type": "markdown",
   "id": "2636269c",
   "metadata": {},
   "source": [
    "- Para afinar el comportamiento de nuestro modelo, evalúe su desempeño los siguientes hiper parámetros:\n",
    "    - <span style='background:gainsboro'><font color='dimgray'>max_features</font></span>: <span style='background:gainsboro'><font color='dimgray'>**None**</font></span>, <span style='background:gainsboro'><font color='dimgray'>log2</font></span>, <span style='background:gainsboro'><font color='dimgray'>sqrt</font></span>.\n",
    "    - <span style='background:gainsboro'><font color='dimgray'>n_estimators</font></span>: Evaluar entre 20 y 1000 en pasos de 50.\n",
    "- Guarde la tasa de error en la exactitud medida con OOB.\n",
    "- Grafique el comportamiento."
   ]
  },
  {
   "cell_type": "code",
   "execution_count": 14,
   "id": "f7e3c585",
   "metadata": {},
   "outputs": [],
   "source": [
    "#Creamos un diccionario para guardar los valores\n",
    "parametros = {\n",
    "    'max_features': [['None', None], ['Log2','log2'], ['Sqrt','sqrt']],\n",
    "    'n_estimators' : range(20, 1000, 50)    \n",
    "}\n",
    "\n",
    "modelos = tmps = {}"
   ]
  },
  {
   "cell_type": "code",
   "execution_count": 15,
   "id": "35b8c1d3",
   "metadata": {
    "scrolled": true
   },
   "outputs": [
    {
     "data": {
      "text/plain": [
       "{'tmp_oob_None': [],\n",
       " 'tmp_r2_None': [],\n",
       " 'tmp_oob_Log2': [],\n",
       " 'tmp_r2_Log2': [],\n",
       " 'tmp_oob_Sqrt': [],\n",
       " 'tmp_r2_Sqrt': []}"
      ]
     },
     "execution_count": 15,
     "metadata": {},
     "output_type": "execute_result"
    }
   ],
   "source": [
    "#Creamos el contenido del diccionario con temporales\n",
    "for p in parametros ['max_features']:\n",
    "    tmps['tmp_oob_'+p[0]] = []\n",
    "    tmps['tmp_r2_'+p[0]] = []\n",
    "\n",
    "tmps"
   ]
  },
  {
   "cell_type": "code",
   "execution_count": 16,
   "id": "04a68dbf",
   "metadata": {},
   "outputs": [],
   "source": [
    "#Iteramos sobre los estimadores y atributos para construir los modelos y sus estimaciones de error\n",
    "\n",
    "for i in parametros ['n_estimators']:\n",
    "    for mfs in parametros['max_features']:\n",
    "        modelos['modelo_temporal_'+mfs[0]] = RandomForestRegressor(n_estimators = i, max_features=mfs[1], oob_score=True, random_state=2401, n_jobs = -1).fit(X_train, y_train)\n",
    "        \n",
    "        #Estimamos el error en OOB\n",
    "        tmps['tmp_oob_'+mfs[0]].append(1- (modelos['modelo_temporal_'+mfs[0]].oob_score_.round(3)))\n",
    "        \n",
    "        #Estimamos el MSE\n",
    "        r2_error= (1- r2_score(y_test, modelos['modelo_temporal_'+mfs[0]].predict(X_test))).round(5)\n",
    "                                       \n",
    "        tmps['tmp_r2_'+mfs[0]].append(r2_error)"
   ]
  },
  {
   "cell_type": "markdown",
   "id": "0b664a9b",
   "metadata": {},
   "source": [
    "Al tratarse de un modelo predictivo (No clasificatorio) se utilizó como estimador del error predictivo (R2 error rate)"
   ]
  },
  {
   "cell_type": "code",
   "execution_count": 17,
   "id": "d8e2479b",
   "metadata": {
    "scrolled": true
   },
   "outputs": [
    {
     "data": {
      "image/png": "[encoded data removed]",
      "text/plain": [
       "<Figure size 1200x600 with 3 Axes>"
      ]
     },
     "metadata": {},
     "output_type": "display_data"
    }
   ],
   "source": [
    "#Graficamos los resultados\n",
    "plt.rcParams['figure.figsize'] = (12,6)\n",
    "\n",
    "fig, axs = plt.subplots(1, 3, sharex = True, sharey=True);\n",
    "for index, mfs in enumerate(parametros['max_features']):\n",
    "    axs[index].plot(tmps['tmp_oob_'+mfs[0]], '.-', label = 'OOB error rate');\n",
    "    axs[index].plot(tmps['tmp_r2_'+mfs[0]], '.-', label = 'R2 error rate');\n",
    "    axs[index].set_title(mfs[0]);\n",
    "plt.tight_layout();\n",
    "plt.legend();\n",
    "plt.show()"
   ]
  },
  {
   "cell_type": "code",
   "execution_count": 18,
   "id": "0a5a81cf",
   "metadata": {},
   "outputs": [
    {
     "name": "stdout",
     "output_type": "stream",
     "text": [
      "Mejores_parametros: {'max_features': 'log2', 'n_estimators': 220}\n",
      "Para un R2 de 0.86054\n"
     ]
    }
   ],
   "source": [
    "#Obtenemos los parámetros asociados al mejor R2 de Log2\n",
    "\n",
    "for i, j in enumerate (tmps['tmp_r2_Log2']):\n",
    "    if j == min(tmps['tmp_r2_Log2']):\n",
    "        mejores_parametros = {\n",
    "            'max_features': 'log2',\n",
    "            'n_estimators': parametros['n_estimators'][i]}\n",
    "\n",
    "print(f\"Mejores_parametros: {mejores_parametros}\")\n",
    "print(f\"Para un R2 de {1-r2_error}\")"
   ]
  },
  {
   "cell_type": "markdown",
   "id": "c3a6927d",
   "metadata": {},
   "source": [
    "_____________"
   ]
  },
  {
   "cell_type": "markdown",
   "id": "754e3b09",
   "metadata": {},
   "source": [
    "## <font color='MediumSeaGreen'>Ejercicio 5: Refactoriza el modelo</font>"
   ]
  },
  {
   "cell_type": "markdown",
   "id": "28312df2",
   "metadata": {},
   "source": [
    "- En base a la mejor combinación de hiper parámetros, reentrene el modelo y comente su desempeño."
   ]
  },
  {
   "cell_type": "markdown",
   "id": "a0790b37",
   "metadata": {},
   "source": [
    "_________"
   ]
  },
  {
   "cell_type": "code",
   "execution_count": 19,
   "id": "8cc632c3",
   "metadata": {},
   "outputs": [],
   "source": [
    "#Reentrenamos el modelo en base a los mejores parámetros\n",
    "modelo_rfr_mejorado = RandomForestRegressor(\n",
    "    random_state=2401,\n",
    "    max_features= mejores_parametros['max_features'],\n",
    "    n_estimators = mejores_parametros['n_estimators']).fit(X_train, y_train)"
   ]
  },
  {
   "cell_type": "code",
   "execution_count": 20,
   "id": "289965d7",
   "metadata": {},
   "outputs": [
    {
     "name": "stdout",
     "output_type": "stream",
     "text": [
      "Test MSE:  868553496.34\n",
      "Test MAE:  18509.112\n",
      "Test R2:  0.862\n"
     ]
    }
   ],
   "source": [
    "#Reportamos las métricas del modelo\n",
    "fas.metricas(modelo_rfr_mejorado, X_test, y_test)"
   ]
  },
  {
   "cell_type": "markdown",
   "id": "3a9beabe",
   "metadata": {},
   "source": [
    "___________"
   ]
  }
 ],
 "metadata": {
  "kernelspec": {
   "display_name": "Python 3",
   "language": "python",
   "name": "python3"
  },
  "language_info": {
   "codemirror_mode": {
    "name": "ipython",
    "version": 3
   },
   "file_extension": ".py",
   "mimetype": "text/x-python",
   "name": "python",
   "nbconvert_exporter": "python",
   "pygments_lexer": "ipython3",
   "version": "3.9.12"
  }
 },
 "nbformat": 4,
 "nbformat_minor": 5
}
